{
 "cells": [
  {
   "cell_type": "markdown",
   "metadata": {},
   "source": [
    "# MeltPool Surrogate Simulator"
   ]
  },
  {
   "cell_type": "code",
   "execution_count": null,
   "metadata": {},
   "outputs": [],
   "source": [
    "# importing necessary libraries and \n",
    "import numpy as np\n",
    "np.seterr(all='ignore')\n",
    "import os\n",
    "from tqdm import tqdm\n",
    "import matplotlib.pyplot as plt\n",
    "\n",
    "import torch\n",
    "Device = torch.device('cuda' if torch.cuda.is_available() else 'cpu')\n",
    "print('Device is', Device)\n",
    "\n",
    "from Dataset import AM_3D_Dataset\n",
    "from utils import get_samples, get_train_val, viz_dataset, get_meshes, what_is\n",
    "from GenClass import GenClass\n",
    "\n",
    "Tevap = 2500\n",
    "room = 293\n"
   ]
  },
  {
   "cell_type": "code",
   "execution_count": null,
   "metadata": {},
   "outputs": [],
   "source": [
    "data = 'Ti64-5'  # 'Ti64-5' or 'Ti64-10' or 'Ti64-10-p'\n",
    "masked = True\n",
    "\n",
    "samples = get_samples(data)\n",
    "train_idxs, val_idxs = get_train_val(samples, data)\n",
    "%matplotlib inline\n",
    "viz_dataset(samples, val=val_idxs, s=25, annotate=10)"
   ]
  },
  {
   "cell_type": "markdown",
   "metadata": {},
   "source": [
    "## Visualizing data samples"
   ]
  },
  {
   "cell_type": "code",
   "execution_count": null,
   "metadata": {},
   "outputs": [],
   "source": [
    "from utils import load, get_pv, remake, viz_sample, viz_process"
   ]
  },
  {
   "cell_type": "code",
   "execution_count": null,
   "metadata": {},
   "outputs": [],
   "source": [
    "# Choose sample index and time step (from 1 to 99)\n",
    "sample_idx = 40\n",
    "t = 70\n",
    "\n",
    "#run this cell to load the data\n",
    "sample = samples[sample_idx]\n",
    "p, v = get_pv(sample)\n",
    "T = remake(*load(sample, data, t), data)\n",
    "\n",
    "print(f'P = {p} w , V = {v} mm/s , t = {t}')"
   ]
  },
  {
   "cell_type": "code",
   "execution_count": null,
   "metadata": {},
   "outputs": [],
   "source": [
    "%matplotlib inline\n",
    "viz_sample(T, data, figsize=(6.5,8))"
   ]
  },
  {
   "cell_type": "code",
   "execution_count": null,
   "metadata": {},
   "outputs": [],
   "source": [
    "# Choose a sample index for an animated visualization\n",
    "sample_idx = 40\n",
    "\n",
    "# run this cell to load the data for the whole process (all time steps)\n",
    "p, v = get_pv(sample)\n",
    "Ts = []\n",
    "for t in range(1, 100):\n",
    "    T = remake(*load(sample, data, t), data)\n",
    "    Ts.append(T)\n",
    "Ts = np.stack(Ts)"
   ]
  },
  {
   "cell_type": "code",
   "execution_count": null,
   "metadata": {},
   "outputs": [],
   "source": [
    "print(f'P = {p} w , V = {v} mm/s')\n",
    "%matplotlib notebook\n",
    "# If the animation does not show up, run the cell a couple of times!\n",
    "viz_process(Ts, data, figsize=(7,9))"
   ]
  },
  {
   "cell_type": "markdown",
   "metadata": {},
   "source": [
    "## Loading a trained model"
   ]
  },
  {
   "cell_type": "code",
   "execution_count": null,
   "metadata": {},
   "outputs": [],
   "source": [
    "models = [model for model in os.listdir('Results/'+data) if model.startswith('FC')]\n",
    "print('Here is the list of the trained models for this data:\\n')\n",
    "for i, model in enumerate(models):\n",
    "    Model = GenClass(model, data)\n",
    "    print(f'Model {i:02d}:  {model}')"
   ]
  },
  {
   "cell_type": "code",
   "execution_count": null,
   "metadata": {
    "scrolled": true
   },
   "outputs": [],
   "source": [
    "# Choose the model index\n",
    "model_idx = 0\n",
    "\n",
    "# Load the trained model\n",
    "Model = GenClass(models[model_idx], data)\n",
    "Model.load_state_dict(masked=masked)\n",
    "Model.test_mode()\n",
    "\n",
    "# Load the dataset (this might take a while)\n",
    "Model.set_dataset(\n",
    "    AM_3D_Dataset(samples[train_idxs], data), # training data\n",
    "    AM_3D_Dataset(samples[val_idxs], data) # validation data\n",
    ")"
   ]
  },
  {
   "cell_type": "markdown",
   "metadata": {},
   "source": [
    "## Trying the model on samples from the dataset"
   ]
  },
  {
   "cell_type": "code",
   "execution_count": null,
   "metadata": {},
   "outputs": [],
   "source": [
    "from utils import compare_samples, compare_process, compare_sample"
   ]
  },
  {
   "cell_type": "code",
   "execution_count": null,
   "metadata": {},
   "outputs": [],
   "source": [
    "# you can choose the index from the dataset plot in the beginning o the notebook\n",
    "# run this cell to obtain model output and ground truth data\n",
    "\n",
    "sample_idx = 40\n",
    "\n",
    "x, Ts, Ts_pred = Model.val_process(samples[sample_idx], masked=masked)\n",
    "p, v = x\n",
    "print(f'P = {p} w , V = {v} mm/s')"
   ]
  },
  {
   "cell_type": "code",
   "execution_count": null,
   "metadata": {},
   "outputs": [],
   "source": [
    "# Compare Model output with ground truth for certain timesteps\n",
    "\n",
    "save = '' # Model.outputs_dir+'/'+f'{x[:2]}.jpg'\n",
    "%matplotlib inline\n",
    "fig = compare_samples(x, Ts, Ts_pred, data, save=save, ts=[10, 30, 50, 70, 90])"
   ]
  },
  {
   "cell_type": "code",
   "execution_count": null,
   "metadata": {},
   "outputs": [],
   "source": [
    "# Compare an animation of the process (the middle cross-section) with error plot\n",
    "\n",
    "save = '' # Model.outputs_dir+'/'+f'{x[:2]}.mp4'\n",
    "%matplotlib notebook\n",
    "# If the animation does not show up, run the cell a couple of times!\n",
    "ani = compare_process(x, Ts, Ts_pred, data, save=save)"
   ]
  },
  {
   "cell_type": "code",
   "execution_count": null,
   "metadata": {},
   "outputs": [],
   "source": [
    "# Compare a specific time step of a sample with error plot\n",
    "# set the time step to show:\n",
    "t = 30\n",
    "save = '' # Model.outputs_dir+'/'+f'{x[:2]}_t({t}).jpg'\n",
    "%matplotlib inline\n",
    "fig = compare_sample((p, v, t), Ts, Ts_pred, data, save=save)"
   ]
  },
  {
   "cell_type": "markdown",
   "metadata": {},
   "source": [
    "## Get the results for the whole dataset"
   ]
  },
  {
   "cell_type": "code",
   "execution_count": null,
   "metadata": {},
   "outputs": [],
   "source": [
    "from utils import get_rmse_iou, plot_result_vs_t, plot_result_vs_PV\n",
    "RMSE, IoU = [], []\n",
    "for idx in tqdm(range(len(samples)), position=0, leave=True):\n",
    "    # We load the data one by one due to memory limitations\n",
    "    Model.set_dataset(None, AM_3D_Dataset(samples[idx:idx+1], data))\n",
    "    (p, v), Ts, Ts_pred = Model.val_process(samples[idx], masked=masked)\n",
    "    rmse, iou = get_rmse_iou(Ts, Ts_pred)\n",
    "    RMSE.append(rmse)\n",
    "    IoU.append(iou)\n",
    "RMSE = np.stack(RMSE)\n",
    "IoU = np.stack(IoU)"
   ]
  },
  {
   "cell_type": "code",
   "execution_count": null,
   "metadata": {},
   "outputs": [],
   "source": [
    "save = '' # 'Results/' + data + '/results_vs_t.jpg'\n",
    "%matplotlib inline\n",
    "plot_result_vs_t(RMSE, IoU, train_idxs, val_idxs, save=save)"
   ]
  },
  {
   "cell_type": "code",
   "execution_count": null,
   "metadata": {},
   "outputs": [],
   "source": [
    "save_name = '' # 'Results/' + data + '/results_vs_PV.jpg'\n",
    "s, edge = (40, 1) if data == 'Ti64-10-p' else (70, 1.6)\n",
    "%matplotlib inline\n",
    "plot_result_vs_PV(RMSE, IoU, samples, train_idxs, val_idxs, s=s, save=save_name, edge=edge, rmse_vmax=10)"
   ]
  },
  {
   "cell_type": "code",
   "execution_count": null,
   "metadata": {},
   "outputs": [],
   "source": [
    "Trange = Tevap-room\n",
    "with open('Results.txt', 'a+') as f:\n",
    "    s = 'data: ' + data + (' masked' if masked else '') + '\\n'\n",
    "    s += f'RMSE: {np.nanmean(RMSE):.1f} +- {np.nanstd(RMSE):.1f} K '\n",
    "    s += f'({100*np.nanmean(RMSE)/Trange:.2f} +- {100*np.nanstd(RMSE)/Trange:.2f} %)' + '\\n'\n",
    "    s += f'IoU: {100*np.nanmean(IoU):.2f} +- ({100*np.nanstd(IoU):.2f} %)' + 2*'\\n'\n",
    "    f.write(s)"
   ]
  }
 ],
 "metadata": {
  "kernelspec": {
   "display_name": "Python 3",
   "language": "python",
   "name": "python3"
  },
  "language_info": {
   "codemirror_mode": {
    "name": "ipython",
    "version": 3
   },
   "file_extension": ".py",
   "mimetype": "text/x-python",
   "name": "python",
   "nbconvert_exporter": "python",
   "pygments_lexer": "ipython3",
   "version": "3.7.3"
  }
 },
 "nbformat": 4,
 "nbformat_minor": 4
}
